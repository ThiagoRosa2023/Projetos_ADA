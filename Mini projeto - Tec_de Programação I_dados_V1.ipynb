{
 "cells": [
  {
   "cell_type": "markdown",
   "metadata": {
    "application/vnd.databricks.v1+cell": {
     "cellMetadata": {
      "byteLimit": 2048000,
      "rowLimit": 10000
     },
     "inputWidgets": {},
     "nuid": "d441fc95-b8b0-49ba-9b06-12aefb4430cf",
     "showTitle": false,
     "title": ""
    },
    "id": "kVslLoobe0DE"
   },
   "source": [
    "\n",
    "# Aluno: Thiago Fernandes Rosa\n",
    "\n",
    "#Objetivo  \n",
    "Você tem a tarefa de criar uma simulação para um jogo de dados. Essa simulação tem como objetivo reunir estatísticas para analisar a justiça do jogo, possíveis resultados e fazer previsões sobre jogos futuros.\n",
    "\n",
    "#Desafios do Projeto  \n",
    "1 - Simulação de Dados: Crie uma função que simule o lançamento de dois dados de seis lados (valores de 1 a 6). Esta função deve retornar a soma dos resultados dos dados.  \n",
    "\n",
    "2 - Múltiplas Simulações: Use a função do passo 1 para simular um grande número de jogos de dados (digamos, 1000 jogos). Armazene o resultado de cada jogo em um array NumPy.  \n",
    "\n",
    "3 - Análise de Dados: Agora, vamos analisar os resultados desses jogos. Calcule e imprima o seguinte:  \n",
    "\n",
    "A média dos resultados.  \n",
    "O lançamento máximo e mínimo.  \n",
    "O número de vezes que cada possível lançamento (2, 3, 4, 5, 6, 7, 8, 9, 10, 11 e 12) ocorreu.  \n",
    "Teste de Hipótese:   Agora vamos fazer um pouco de teste de hipóteses:  \n",
    "  Supondo um jogo justo (ou seja, todos os lançamentos são igualmente prováveis), o resultado da sua simulação coincide com essa suposição? Por que sim ou por que não?  \n",
    "  O que isso significa para um jogador do jogo de dados?"
   ]
  },
  {
   "cell_type": "code",
   "execution_count": 0,
   "metadata": {
    "application/vnd.databricks.v1+cell": {
     "cellMetadata": {
      "byteLimit": 2048000,
      "rowLimit": 10000
     },
     "inputWidgets": {},
     "nuid": "c2b425d5-3175-45d0-a567-4dbbb802578f",
     "showTitle": false,
     "title": ""
    },
    "executionInfo": {
     "elapsed": 7,
     "status": "ok",
     "timestamp": 1702029057911,
     "user": {
      "displayName": "Thiago Rosa",
      "userId": "05964043776265122104"
     },
     "user_tz": 180
    },
    "id": "L54kG3T_e3Eb"
   },
   "outputs": [],
   "source": [
    "#Importando a biblioteca numpy e random\n",
    "import numpy as np\n",
    "import random\n"
   ]
  },
  {
   "cell_type": "code",
   "execution_count": 0,
   "metadata": {
    "application/vnd.databricks.v1+cell": {
     "cellMetadata": {
      "byteLimit": 2048000,
      "rowLimit": 10000
     },
     "inputWidgets": {},
     "nuid": "b0c730a5-3ac5-4d34-96bb-dd5245be38a6",
     "showTitle": false,
     "title": ""
    },
    "colab": {
     "base_uri": "https://localhost:8080/"
    },
    "executionInfo": {
     "elapsed": 6,
     "status": "ok",
     "timestamp": 1702029057911,
     "user": {
      "displayName": "Thiago Rosa",
      "userId": "05964043776265122104"
     },
     "user_tz": 180
    },
    "id": "9u9Y-JF7g0Bz",
    "outputId": "d25f6fa1-4f9d-4425-f7a9-b69abfe52f61"
   },
   "outputs": [
    {
     "output_type": "stream",
     "name": "stdout",
     "output_type": "stream",
     "text": [
      "Resultado Dado 1:  3\nResultado Dado 2:  3\nSoma dos Resultados das Jogadas:  6\n"
     ]
    }
   ],
   "source": [
    "#Deafio Parte 1\n",
    "\n",
    "def jogo_dados():\n",
    "  jogada_1 = random.randint(1,6)\n",
    "  print('Resultado Dado 1: ',jogada_1)\n",
    "  jogada_2 = random.randint(1,6)\n",
    "  print('Resultado Dado 2: ',jogada_2)\n",
    "  soma = jogada_1 + jogada_2\n",
    "  return soma\n",
    "\n",
    "dado_1 = [1, 6]\n",
    "dado_2 = [1, 6]\n",
    "\n",
    "resultado = jogo_dados()\n",
    "print('Soma dos Resultados das Jogadas: ',resultado)"
   ]
  },
  {
   "cell_type": "code",
   "execution_count": 0,
   "metadata": {
    "application/vnd.databricks.v1+cell": {
     "cellMetadata": {
      "byteLimit": 2048000,
      "rowLimit": 10000
     },
     "inputWidgets": {},
     "nuid": "02d3e0dd-05da-4447-93ad-51f9516f604e",
     "showTitle": false,
     "title": ""
    },
    "colab": {
     "base_uri": "https://localhost:8080/"
    },
    "executionInfo": {
     "elapsed": 348,
     "status": "ok",
     "timestamp": 1702031160484,
     "user": {
      "displayName": "Thiago Rosa",
      "userId": "05964043776265122104"
     },
     "user_tz": 180
    },
    "id": "DzlbLSGNmaH0",
    "outputId": "caaff855-541a-48ff-9347-a3e63c95abff"
   },
   "outputs": [
    {
     "output_type": "stream",
     "name": "stdout",
     "output_type": "stream",
     "text": [
      "Resultados das Jogadas:  [ 2  2  9  7  4  5  6  8  3  8  3  9  7  7  3  4  4 11  4 10  5  6  2 10\n  7  2  7  3 11  9  2  4 10  2  5  6  3  5  7 10 10  9 12  7 12 10 11  7\n  7 11  3  6  6 10  2  4 11  3  9  7  5 10  3 10 10  3  4  7  3  4  2  8\n  3  4  5  3 12  2  2  7  6  3  3  2  7  5  5 12  2  2  5  5  2  4  7  5\n 12 12  8 10 11  8 11 11  2  3  6  6  9  8 10  7 12  8  3  4 10  8  8 11\n  7  7  5  3  3  7 11  7  7  3  3  6  6  3  4  4  2 11  7 10  5 10  6  4\n  6  7 10  7  7  2  2 10  7  7  7  7  5  7 12  6 11 10  3  8  6  5  7  7\n  6  7  7  3 11  5 11  8  8 11  9  2 10  3  8  9 10 12  2 10  4  8  2  8\n 12  8  4  7  7  4 11  2 11  7  8 11 12  7 11 11  5 12  5  7  7  9  7  4\n  9  9  2 12  3 10 11  3  8 10  4  9  8  5 11  7 10  7  5  5  7  6 11  7\n  5 10  6  9  3  6  2  4  5  5  3  7  5  7  7 10  7  5 11 12  6 12  8  3\n  2  5 11  3  6 10 10  7 10  8  7  3  2  2  7  3  9 12  2  7  8  2  2  3\n 10  7 12  7  6 11  4  7 11 11 12  2  3  5  7 11  2 11  7  7  8  2  2  5\n  9  2 10  6  3  7  7  7 11  2  9  2  4  8  8 12  5 12  5 11  5 11  5  4\n  3  4  5  7  5  7  8  4  7  5  7  3  4  8  2 11  5 12  6 11  8  7 12 12\n 11  7  5 12 12  4  2  5  4  5 11 11  8  8  7  2  7  2  2  8  3  2 10  4\n 11  9  9 12  3  7  5 12  7  9  9  2  8 12 12  2 11  7 11 12 11  3  4  8\n 11 12 10  8  4  5 10  4  3  2  6  3  2  5  9  8  5  3  2 12  4  7 10 11\n  8  7  7 11  7 12 11  7  4 12 10  7 12  5  3 12  5  9  5 10  4  7  6  7\n  2  3  3  2  6  2 10  6  7  3  7 10 10  7  3  2  8  2 11  9  9 11  5 12\n  5  7 11  2  2 10  6  6  8  9  8  6  5  7  8  8  4  5 12  7  7 10  5 11\n  6  2  4  7 12  4  9  2 11  2 11 12  7  2  9  5 12  6  8  3 10  9  6  9\n  9  8  2  3  5  4  2  8  3 11 10  3 11  7 10 10 11 10 10  4  3 12  5 12\n  7  9  7 12  4  7  4  5 12  9  3 12  3  7  5  3  4  3  4  8 10  6  9  7\n  8 10  4 10  7  2  2  7  7  3  6  7  6  4 10  6  4  4 12  7  5  6  2  2\n 12  7  2  9  3  3  2  5 11  8  9 11 12  7 12  2  6  9 10  7 11  3  9  7\n  6 11 11 11  3  7  9  7  7  3  6  9  2  3  6  3  7 12  2  8  4  3 10  3\n  7 12  3  3  3  4  6  7  9  9 10  6  8  7  7  2 11 11  9  2 12 10  9  4\n  9  6 12  4 10  8  3 11  8  6  9  9  8  7 11  9  7  2 11  5  7  2  7  7\n 10  5  5  3  2 10  5  3  7  5 12  3  6 10  6 11 11  2  7  7 10  7  5  6\n 10  5  6  9 12  7  9 10  9  8  6  7  7 10  7  3  6  7  9  3  2  4  7  8\n  6  6  5  7  9  9  2 12  2  7 12  3 10 10  5  6  7  2 11 11 11  4 12  3\n  6 11  5 11  9  3  2 11  9  7  4 12  4 10  3  3  2  4  8 12  7  4 10 10\n 11 10  5  2  2  5  7  7 12  2  3 11  3 12  9  4 12  4 12  7  8  3 10 11\n  7 12  2  7 11 11  3  7  6  2 10  4  2  4  8  8  7  5  4  5 12  4  3  2\n 12 11 12  9  8  7 10  7 12 10 11 10  8  4  6  4  5  7  8  3  7  8  9  4\n  7  4  7  5  2  7 12  6  7  7  6  4  9  9  9  8 11 10 10  6  4 10 10  5\n 10  4  3  5 12  9 10  8 11  4  4  7 10  5  7 10  4  7  5  9  8  9  6  4\n  8  7  6  8  7  5  9 12 12  9  7  4  7 10  3  7  9  9 10  9 12  3  4  5\n  7  6  6  7  3  8  2  9 12  6  5  3  8  9  4 10  3  9  9  7  6  2 12  3\n  5 12  6 10  9  3  7  8 11 11 10  2  2 11  7  6  3  7 10 10  5  6  2  5\n  6  8 10  6  8  2  2  2 12  5 11  8  4  3 12 10]\n"
     ]
    }
   ],
   "source": [
    "#Desafio Parte 2\n",
    "def jogo_dados(dado_1d, dado_2d, num_simulacoes):\n",
    "  #Gera um array de tamanho num_simulacoes contendo valores aleatórios escolhidos de dado_1d\n",
    "  jogada1_1000x = np.random.choice(dado_1d, size=(num_simulacoes))\n",
    "  #print('teste 1 ',jogada1_1000x)\n",
    "\n",
    "  #Gera um array de tamanho num_simulacoes contendo valores aleatórios escolhidos de dado_2d\n",
    "  jogada2_1000x = np.random.choice(dado_2d, size=(num_simulacoes))\n",
    "  #print('teste 2 ',jogada2_1000x)\n",
    "\n",
    "  soma = jogada1_1000x + jogada2_1000x\n",
    "\n",
    "  return soma\n",
    "\n",
    "dado_1d = [1,2,3,4,5,6]\n",
    "dado_2d = [1,2,3,4,5,6]\n",
    "num_simulacoes =1000\n",
    "resultado = jogo_dados(dado_1, dado_2d, num_simulacoes)\n",
    "print('Resultados das Jogadas: ',resultado)\n"
   ]
  },
  {
   "cell_type": "code",
   "execution_count": 0,
   "metadata": {
    "application/vnd.databricks.v1+cell": {
     "cellMetadata": {
      "byteLimit": 2048000,
      "rowLimit": 10000
     },
     "inputWidgets": {},
     "nuid": "e08d7a65-9ecc-46fa-862e-6ca909a71867",
     "showTitle": false,
     "title": ""
    },
    "colab": {
     "base_uri": "https://localhost:8080/"
    },
    "executionInfo": {
     "elapsed": 313,
     "status": "ok",
     "timestamp": 1702031165264,
     "user": {
      "displayName": "Thiago Rosa",
      "userId": "05964043776265122104"
     },
     "user_tz": 180
    },
    "id": "j0y8vopSpeJh",
    "outputId": "434f98a7-b8d7-4b58-a362-6a8af087d4bc"
   },
   "outputs": [
    {
     "output_type": "stream",
     "name": "stdout",
     "output_type": "stream",
     "text": [
      "Resultado da média das jogadas de dados:  6.886\n"
     ]
    }
   ],
   "source": [
    "#Desafio Parte 3\n",
    "# A média dos resultados\n",
    "resultado.mean()\n",
    "print('Resultado da média das jogadas de dados: ',resultado.mean())\n"
   ]
  },
  {
   "cell_type": "code",
   "execution_count": 0,
   "metadata": {
    "application/vnd.databricks.v1+cell": {
     "cellMetadata": {
      "byteLimit": 2048000,
      "rowLimit": 10000
     },
     "inputWidgets": {},
     "nuid": "62ba0704-3972-4fce-afce-7652efc20e2b",
     "showTitle": false,
     "title": ""
    },
    "colab": {
     "base_uri": "https://localhost:8080/"
    },
    "executionInfo": {
     "elapsed": 350,
     "status": "ok",
     "timestamp": 1702031168535,
     "user": {
      "displayName": "Thiago Rosa",
      "userId": "05964043776265122104"
     },
     "user_tz": 180
    },
    "id": "O6pPJgdIz4ax",
    "outputId": "986ab544-f859-4b47-966c-e9e346882ff5"
   },
   "outputs": [
    {
     "output_type": "stream",
     "name": "stdout",
     "output_type": "stream",
     "text": [
      "Lançamento Máximo:  12 \nLançamento Mínimo:  2\n"
     ]
    }
   ],
   "source": [
    "#O lançamento máximo e mínimo.\n",
    "resultado.max()\n",
    "resultado.min()\n",
    "print('Lançamento Máximo: ',resultado.max(),'\\nLançamento Mínimo: ', resultado.min())"
   ]
  },
  {
   "cell_type": "code",
   "execution_count": 0,
   "metadata": {
    "application/vnd.databricks.v1+cell": {
     "cellMetadata": {
      "byteLimit": 2048000,
      "rowLimit": 10000
     },
     "inputWidgets": {},
     "nuid": "9f07a365-37ff-469a-9267-2e9171cf3b1b",
     "showTitle": false,
     "title": ""
    },
    "colab": {
     "base_uri": "https://localhost:8080/"
    },
    "executionInfo": {
     "elapsed": 321,
     "status": "ok",
     "timestamp": 1702031171701,
     "user": {
      "displayName": "Thiago Rosa",
      "userId": "05964043776265122104"
     },
     "user_tz": 180
    },
    "id": "R4lotUva1b2r",
    "outputId": "45d7c111-2e7b-4d0e-f278-afcc1ea3c25f"
   },
   "outputs": [
    {
     "output_type": "execute_result",
     "data": {
      "text/plain": [
       "array([ 98,  97,  79,  86,  72, 162,  73,  74,  92,  87,  80])"
      ]
     },
     "execution_count": 11,
     "metadata": {},
     "output_type": "execute_result"
    }
   ],
   "source": [
    "#O número de vezes que cada possível lançamento (2, 3, 4, 5, 6, 7, 8, 9, 10, 11 e 12) ocorreu.\n",
    "contagem_somas = np.bincount(resultado)[2:]\n",
    "contagem_somas"
   ]
  },
  {
   "cell_type": "markdown",
   "metadata": {
    "application/vnd.databricks.v1+cell": {
     "cellMetadata": {
      "byteLimit": 2048000,
      "rowLimit": 10000
     },
     "inputWidgets": {},
     "nuid": "5074b87d-5a98-4e99-bd41-e062310942af",
     "showTitle": false,
     "title": ""
    },
    "id": "Qif_W9qO3zpF"
   },
   "source": [
    "#Teste de Hipótese: Agora vamos fazer um pouco de teste de hipóteses:\n",
    "Supondo um jogo justo (ou seja, todos os lançamentos são igualmente prováveis), o resultado da sua simulação coincide com essa suposição? Por que sim ou por que não?  \n",
    "O que isso significa para um jogador do jogo de dados?"
   ]
  },
  {
   "cell_type": "markdown",
   "metadata": {
    "application/vnd.databricks.v1+cell": {
     "cellMetadata": {
      "byteLimit": 2048000,
      "rowLimit": 10000
     },
     "inputWidgets": {},
     "nuid": "7fd1ebc2-bd41-4ef9-a0ac-eb73e28c485d",
     "showTitle": false,
     "title": ""
    },
    "id": "CcdHqoO73175"
   },
   "source": [
    "Resposta: Ao lançar dois dados, todas as combinações possíveis de resultados são igualmente prováveis, porem quanto maior for o numero de lançamentos a probabilidade de obter uma soma de 7 é maior do que a de qualquer outra soma, na simulação o resultado 7 foi o que ficou acima da média, isso porque o resultado 7 e o unico que tem seis combinações que resultam em 7 (1+6, 2+5, 3+4, 4+3, 5+2, 6+1).\n",
    "\n",
    "Para um jogador isso significa que ao apostar no numero 7 ele terá uma chance maior de acertar em comparação com a maioria das outras apostas.\n",
    "No entanto, o jogo é aleatório, e a aposta no número 7 não garante vitória em nenhum lançamento específico.\n",
    "\n",
    "\n",
    "\n",
    "\n",
    "\n"
   ]
  }
 ],
 "metadata": {
  "application/vnd.databricks.v1+notebook": {
   "dashboards": [],
   "language": "python",
   "notebookMetadata": {
    "pythonIndentUnit": 4
   },
   "notebookName": "Mini projeto - Técnicas de Programação I",
   "widgets": {}
  },
  "colab": {
   "authorship_tag": "ABX9TyODHEYsOAvz137DYAAPFDLQ",
   "provenance": []
  },
  "kernelspec": {
   "display_name": "Python 3",
   "name": "python3"
  },
  "language_info": {
   "name": "python"
  }
 },
 "nbformat": 4,
 "nbformat_minor": 0
}
